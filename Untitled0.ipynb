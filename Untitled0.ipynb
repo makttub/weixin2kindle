{
 "metadata": {
  "name": ""
 },
 "nbformat": 3,
 "nbformat_minor": 0,
 "worksheets": [
  {
   "cells": [
    {
     "cell_type": "code",
     "collapsed": false,
     "input": [
      "import urllib\n",
      "import re\n",
      "\n",
      "url = 'http://weixin.sogou.com/gzhjs?cb=sogou.weixin.gzhcb&openid=oIWsFt98u7kmyb9-OpSPghHa7Uiw&page=1'\n",
      "xml = urllib.urlopen(url).read()\n",
      "# xml = '<html><head><title>Title</title>'\n",
      "# print xml\n",
      "p = re.compile(r'<title>.*?>')\n",
      "s = p.findall(xml)\n",
      "print s\n",
      "\n",
      "\n",
      "# print re.search('<title>.*?>', xml).group(0)\n"
     ],
     "language": "python",
     "metadata": {},
     "outputs": [
      {
       "output_type": "stream",
       "stream": "stdout",
       "text": [
        "['<title><![CDATA[\\xe5\\x91\\xa8\\xe6\\x9c\\xab\\xe4\\xbc\\xbc\\xe6\\xb0\\xb4\\xe6\\xb5\\x81\\xe5\\xb9\\xb4]]>', '<title><![CDATA[iOS8 - \\xe9\\x9d\\x93\\xe4\\xb8\\xbd\\xe5\\xa6\\x82\\xe8\\x8a\\xb1]]>', '<title><![CDATA[\\xe5\\x86\\xb0\\xe5\\xb0\\x81\\xe5\\x9b\\x9b\\xe6\\xb5\\xb7]]>', '<title><![CDATA[\\xe6\\x9c\\xaa\\xe6\\x9d\\xa5\\xe4\\xb8\\x8e\\xe4\\xbc\\xa0\\xe7\\xbb\\x9f - \\xe8\\x8b\\xb9\\xe6\\x9e\\x9c\\xe5\\x8f\\x91\\xe5\\xb8\\x83\\xe4\\xbc\\x9a\\xe8\\xae\\xb0(\\xe4\\xb8\\x8b)]]>', '<title><![CDATA[\\xe6\\x9c\\xaa\\xe6\\x9d\\xa5\\xe4\\xb8\\x8e\\xe4\\xbc\\xa0\\xe7\\xbb\\x9f - \\xe8\\x8b\\xb9\\xe6\\x9e\\x9c\\xe5\\x8f\\x91\\xe5\\xb8\\x83\\xe4\\xbc\\x9a\\xe8\\xae\\xb0(\\xe4\\xb8\\x8a)]]>', '<title><![CDATA[\\xe8\\xb5\\xa2\\xe8\\x80\\x85\\xe5\\x85\\xa8\\xe6\\x8b\\xbf]]>', '<title><![CDATA[Mac \\xe4\\xb8\\x8a\\xe7\\x9a\\x84\\xe5\\xb0\\x8f\\xe6\\x9c\\xba\\xe5\\x99\\xa8\\xe4\\xba\\xba]]>', '<title><![CDATA[\\xe6\\x88\\x91\\xe4\\xb8\\xba\\xe4\\xbb\\x80\\xe4\\xb9\\x88\\xe4\\xb8\\x8d\\xe5\\xb8\\x8c\\xe6\\x9c\\x9b\\xe8\\x8b\\xb9\\xe6\\x9e\\x9c\\xe5\\x85\\xac\\xe5\\x8f\\xb8\\xe5\\x80\\x92\\xe6\\x8e\\x89?]]>', '<title><![CDATA[\\xe7\\xad\\x89\\xe5\\xbe\\x85,\\xe5\\xb9\\xb6\\xe7\\x9b\\xb8\\xe4\\xbf\\xa1\\xe6\\x97\\xb6\\xe9\\x97\\xb4\\xe7\\x9a\\x84\\xe5\\x8a\\x9b\\xe9\\x87\\x8f]]>']\n"
       ]
      }
     ],
     "prompt_number": 25
    },
    {
     "cell_type": "code",
     "collapsed": false,
     "input": [
      "from datetime import *\n",
      "\n",
      "now = str(datetime.now())\n",
      "now = now.replace('-', '_')\n",
      "now = now.replace(' ', '_')\n",
      "now = now.replace(':', '_')\n",
      "now = now.replace('.', '_')\n",
      "print now"
     ],
     "language": "python",
     "metadata": {},
     "outputs": [
      {
       "output_type": "stream",
       "stream": "stdout",
       "text": [
        "2014_09_22_17_21_25_414573\n"
       ]
      }
     ],
     "prompt_number": 56
    },
    {
     "cell_type": "code",
     "collapsed": false,
     "input": [],
     "language": "python",
     "metadata": {},
     "outputs": []
    }
   ],
   "metadata": {}
  }
 ]
}